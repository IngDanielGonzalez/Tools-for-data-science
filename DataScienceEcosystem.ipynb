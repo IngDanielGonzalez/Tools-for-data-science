{
 "cells": [
  {
   "cell_type": "markdown",
   "id": "7b59c2ca-3fb3-4473-bea5-41d82516b390",
   "metadata": {},
   "source": [
    "# Data Science Tools and Ecosystem"
   ]
  },
  {
   "cell_type": "markdown",
   "id": "562bade6-b714-473f-a5e6-ad2589317c36",
   "metadata": {},
   "source": [
    "#### In this notebook, Data Science Tools and Ecosystem are summarized."
   ]
  },
  {
   "cell_type": "markdown",
   "id": "2ec69311-a286-4ba7-9709-a160e4da1575",
   "metadata": {},
   "source": [
    "## **Objectives:**\n",
    "- Show some arithmetic examples\n",
    "- show some popular languages use in data science\n",
    "- Show how some of the most popular libraries in data science "
   ]
  },
  {
   "cell_type": "markdown",
   "id": "e5d8d23f-98f4-45cb-a6da-bd3736db0683",
   "metadata": {},
   "source": [
    "#### Some of the popular languages that Data Scientists use are:\n",
    "1. Python\n",
    "2. R\n",
    "3. C ++"
   ]
  },
  {
   "cell_type": "markdown",
   "id": "5decdb08-8acc-436c-9d72-b1ad298556ce",
   "metadata": {},
   "source": [
    "### Some of the commonly used libraries used by Data Scientists include:\n",
    "1. NumPy\n",
    "2. Pandas\n",
    "3. Matplotlib"
   ]
  },
  {
   "cell_type": "markdown",
   "id": "e09a46c5-ed2b-41bf-8ff7-fc65ba101d37",
   "metadata": {},
   "source": [
    "| Data Science Tools |\n",
    "| -------------------|\n",
    "| Python             |\n",
    "| Git and GitHub     |\n",
    "| R                  |\n"
   ]
  },
  {
   "cell_type": "markdown",
   "id": "2f81c003-33b7-4c18-bcc1-7a3c6d92543b",
   "metadata": {},
   "source": [
    "### Below are a few examples of evaluating arithmetic expressions in Python\n",
    "#### Addition: 3 + 4\n",
    "#### Subtraction: 7 - 2\n",
    "#### Multiplication: 5 * 6"
   ]
  },
  {
   "cell_type": "code",
   "execution_count": 1,
   "id": "903290d6-f685-4c60-a9ba-f4b739b77d60",
   "metadata": {},
   "outputs": [
    {
     "data": {
      "text/plain": [
       "17"
      ]
     },
     "execution_count": 1,
     "metadata": {},
     "output_type": "execute_result"
    }
   ],
   "source": [
    "#This a simple arithmetic expression to mutiply then add integers\n",
    "(3*4)+5"
   ]
  },
  {
   "cell_type": "code",
   "execution_count": 2,
   "id": "6cbe5389-4af7-4763-9ce3-cf7e8bf3e42e",
   "metadata": {},
   "outputs": [
    {
     "data": {
      "text/plain": [
       "3.3333333333333335"
      ]
     },
     "execution_count": 2,
     "metadata": {},
     "output_type": "execute_result"
    }
   ],
   "source": [
    "#This will convert 200 minutes to hours by diving by 60\n",
    "200/60"
   ]
  },
  {
   "cell_type": "markdown",
   "id": "cbc69f10-38c2-4092-8478-896b4f13615f",
   "metadata": {},
   "source": [
    "## Author \n",
    "#### Daniel Gonzalez"
   ]
  },
  {
   "cell_type": "code",
   "execution_count": null,
   "id": "c7a2e945-4815-4d31-8dbc-529bacaa4e17",
   "metadata": {},
   "outputs": [],
   "source": []
  }
 ],
 "metadata": {
  "kernelspec": {
   "display_name": "Python 3 (ipykernel)",
   "language": "python",
   "name": "python3"
  },
  "language_info": {
   "codemirror_mode": {
    "name": "ipython",
    "version": 3
   },
   "file_extension": ".py",
   "mimetype": "text/x-python",
   "name": "python",
   "nbconvert_exporter": "python",
   "pygments_lexer": "ipython3",
   "version": "3.10.9"
  }
 },
 "nbformat": 4,
 "nbformat_minor": 5
}
